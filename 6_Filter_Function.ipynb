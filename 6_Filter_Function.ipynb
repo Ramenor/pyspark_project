{
  "nbformat": 4,
  "nbformat_minor": 0,
  "metadata": {
    "colab": {
      "provenance": [],
      "authorship_tag": "ABX9TyPOhuS7Wej8XaKK+3xl6YE2",
      "include_colab_link": true
    },
    "kernelspec": {
      "name": "python3",
      "display_name": "Python 3"
    },
    "language_info": {
      "name": "python"
    }
  },
  "cells": [
    {
      "cell_type": "markdown",
      "metadata": {
        "id": "view-in-github",
        "colab_type": "text"
      },
      "source": [
        "<a href=\"https://colab.research.google.com/github/Ramenor/pyspark_project/blob/main/6_Filter_Function.ipynb\" target=\"_parent\"><img src=\"https://colab.research.google.com/assets/colab-badge.svg\" alt=\"Open In Colab\"/></a>"
      ]
    },
    {
      "cell_type": "markdown",
      "source": [
        "Función Filter"
      ],
      "metadata": {
        "id": "XZz5djlsi1Ty"
      }
    },
    {
      "cell_type": "code",
      "source": [
        "sc = spark.sparkContext\n",
        "\n",
        "rdd = sc.parallelize([1,2,3,4,5,6,7,8,9])\n",
        "\n",
        "rdd_par = rdd.filter(lambda x: x % 2 == 0)\n",
        "\n",
        "rdd_par.collect()\n"
      ],
      "metadata": {
        "id": "-mkf1F0Di1h_",
        "outputId": "fa6bf7ea-f291-4fc4-ac09-cbed0779a687",
        "colab": {
          "base_uri": "https://localhost:8080/"
        }
      },
      "execution_count": 17,
      "outputs": [
        {
          "output_type": "execute_result",
          "data": {
            "text/plain": [
              "[2, 4, 6, 8]"
            ]
          },
          "metadata": {},
          "execution_count": 17
        }
      ]
    },
    {
      "cell_type": "code",
      "source": [
        "rdd_impar = rdd.filter(lambda x: x % 2 != 0)\n",
        "\n",
        "rdd_impar.collect()\n"
      ],
      "metadata": {
        "id": "bFUqDikCjHV4",
        "outputId": "7f34b0e8-3fec-4422-ee0c-d453a06bc38a",
        "colab": {
          "base_uri": "https://localhost:8080/"
        }
      },
      "execution_count": 18,
      "outputs": [
        {
          "output_type": "execute_result",
          "data": {
            "text/plain": [
              "[1, 3, 5, 7, 9]"
            ]
          },
          "metadata": {},
          "execution_count": 18
        }
      ]
    },
    {
      "cell_type": "code",
      "source": [
        "rdd_texto = sc.parallelize(['José', 'Juaquín', 'Juan', 'Lucía', 'Karla', 'Katia'])\n",
        "\n",
        "rdd_k = rdd_texto.filter(lambda x: x.startswith('K'))\n",
        "\n",
        "rdd_k.collect()\n"
      ],
      "metadata": {
        "id": "o8KRAKEgjITr",
        "outputId": "e3397eb9-538f-4ca9-b033-350604731c57",
        "colab": {
          "base_uri": "https://localhost:8080/"
        }
      },
      "execution_count": 22,
      "outputs": [
        {
          "output_type": "execute_result",
          "data": {
            "text/plain": [
              "['Karla', 'Katia']"
            ]
          },
          "metadata": {},
          "execution_count": 22
        }
      ]
    },
    {
      "cell_type": "code",
      "source": [
        "rdd_filtro = rdd_texto.filter(lambda x: x.startswith('J') and x.find('u') == 1)\n",
        "\n",
        "rdd_filtro.collect()"
      ],
      "metadata": {
        "id": "GucOoa_jjX4q",
        "outputId": "b54b61e4-2975-4f1a-f383-29d2ecaba397",
        "colab": {
          "base_uri": "https://localhost:8080/"
        }
      },
      "execution_count": 24,
      "outputs": [
        {
          "output_type": "execute_result",
          "data": {
            "text/plain": [
              "['Juaquín', 'Juan']"
            ]
          },
          "metadata": {},
          "execution_count": 24
        }
      ]
    }
  ]
}