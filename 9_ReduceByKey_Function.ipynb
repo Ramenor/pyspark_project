{
  "nbformat": 4,
  "nbformat_minor": 0,
  "metadata": {
    "colab": {
      "provenance": [],
      "authorship_tag": "ABX9TyP07xvHYzQVAFdD20FGbCms",
      "include_colab_link": true
    },
    "kernelspec": {
      "name": "python3",
      "display_name": "Python 3"
    },
    "language_info": {
      "name": "python"
    }
  },
  "cells": [
    {
      "cell_type": "markdown",
      "metadata": {
        "id": "view-in-github",
        "colab_type": "text"
      },
      "source": [
        "<a href=\"https://colab.research.google.com/github/Ramenor/pyspark_project/blob/main/9_ReduceByKey_Function.ipynb\" target=\"_parent\"><img src=\"https://colab.research.google.com/assets/colab-badge.svg\" alt=\"Open In Colab\"/></a>"
      ]
    },
    {
      "cell_type": "markdown",
      "source": [
        "Función reduceByKey"
      ],
      "metadata": {
        "id": "maULzM6tmuzb"
      }
    },
    {
      "cell_type": "code",
      "source": [
        "sc = spark.sparkContext\n",
        "\n",
        "rdd = sc.parallelize(\n",
        "    [('casa', 2),\n",
        "     ('parque', 1),\n",
        "     ('que', 5),\n",
        "     ('casa', 1),\n",
        "     ('escuela', 2),\n",
        "     ('casa', 1),\n",
        "     ('que', 1)]\n",
        ")\n",
        "\n",
        "rdd.collect()"
      ],
      "metadata": {
        "id": "M39PsKSbmxPV",
        "outputId": "bf22d1ac-f7af-442f-d932-2b197780a0fa",
        "colab": {
          "base_uri": "https://localhost:8080/"
        }
      },
      "execution_count": 32,
      "outputs": [
        {
          "output_type": "execute_result",
          "data": {
            "text/plain": [
              "[('casa', 2),\n",
              " ('parque', 1),\n",
              " ('que', 5),\n",
              " ('casa', 1),\n",
              " ('escuela', 2),\n",
              " ('casa', 1),\n",
              " ('que', 1)]"
            ]
          },
          "metadata": {},
          "execution_count": 32
        }
      ]
    },
    {
      "cell_type": "code",
      "source": [
        "rdd_reduciodo = rdd.reduceByKey(lambda x,y: x + y)\n",
        "\n",
        "rdd_reduciodo.collect()"
      ],
      "metadata": {
        "id": "Qiaih6qsn3o4",
        "outputId": "3a87ef20-b31c-4e5b-f7a9-9649c827b0ca",
        "colab": {
          "base_uri": "https://localhost:8080/"
        }
      },
      "execution_count": 33,
      "outputs": [
        {
          "output_type": "execute_result",
          "data": {
            "text/plain": [
              "[('parque', 1), ('que', 6), ('casa', 4), ('escuela', 2)]"
            ]
          },
          "metadata": {},
          "execution_count": 33
        }
      ]
    }
  ]
}