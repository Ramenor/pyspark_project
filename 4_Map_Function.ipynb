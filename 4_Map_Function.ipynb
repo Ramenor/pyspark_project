{
  "nbformat": 4,
  "nbformat_minor": 0,
  "metadata": {
    "colab": {
      "provenance": [],
      "authorship_tag": "ABX9TyMSgWUIuRc0uVS9EfyaWOEg",
      "include_colab_link": true
    },
    "kernelspec": {
      "name": "python3",
      "display_name": "Python 3"
    },
    "language_info": {
      "name": "python"
    }
  },
  "cells": [
    {
      "cell_type": "markdown",
      "metadata": {
        "id": "view-in-github",
        "colab_type": "text"
      },
      "source": [
        "<a href=\"https://colab.research.google.com/github/Ramenor/pyspark_project/blob/main/4_Map_Function.ipynb\" target=\"_parent\"><img src=\"https://colab.research.google.com/assets/colab-badge.svg\" alt=\"Open In Colab\"/></a>"
      ]
    },
    {
      "cell_type": "markdown",
      "source": [
        "Transformaciones: función map"
      ],
      "metadata": {
        "id": "IACDALdveX1u"
      }
    },
    {
      "cell_type": "code",
      "source": [
        "sc = spark.sparkContext\n",
        "\n",
        "rdd = sc.parallelize([1,2,3,4,5])\n",
        "\n",
        "rdd_resta = rdd.map(lambda x: x - 1)\n",
        "rdd_resta.collect()"
      ],
      "metadata": {
        "id": "qL5vwouWeaCM",
        "outputId": "5901daa9-7bce-4b37-b212-d3da64cf3a50",
        "colab": {
          "base_uri": "https://localhost:8080/"
        }
      },
      "execution_count": 8,
      "outputs": [
        {
          "output_type": "execute_result",
          "data": {
            "text/plain": [
              "[0, 1, 2, 3, 4]"
            ]
          },
          "metadata": {},
          "execution_count": 8
        }
      ]
    },
    {
      "cell_type": "code",
      "source": [
        "rdd_par = rdd.map(lambda x: x % 2 == 0)\n",
        "\n",
        "rdd_par.collect()"
      ],
      "metadata": {
        "id": "s4S28GuQei3x",
        "outputId": "73e3542f-6887-4f65-d651-bf606e52abd4",
        "colab": {
          "base_uri": "https://localhost:8080/"
        }
      },
      "execution_count": 9,
      "outputs": [
        {
          "output_type": "execute_result",
          "data": {
            "text/plain": [
              "[False, True, False, True, False]"
            ]
          },
          "metadata": {},
          "execution_count": 9
        }
      ]
    },
    {
      "cell_type": "code",
      "source": [
        "\n",
        "rdd_texto = sc.parallelize(['José', 'Juan', 'Lucía'])\n",
        "\n",
        "rdd_mayuscula = rdd_texto.map(lambda x: x.upper())\n",
        "\n",
        "rdd_mayuscula.collect()"
      ],
      "metadata": {
        "id": "ixbtQRGlen6C",
        "outputId": "6155b158-e8e5-4b94-cc9c-9ae22aa30302",
        "colab": {
          "base_uri": "https://localhost:8080/"
        }
      },
      "execution_count": 12,
      "outputs": [
        {
          "output_type": "execute_result",
          "data": {
            "text/plain": [
              "['JOSÉ', 'JUAN', 'LUCÍA']"
            ]
          },
          "metadata": {},
          "execution_count": 12
        }
      ]
    },
    {
      "cell_type": "code",
      "source": [
        "rdd_hola = rdd_texto.map(lambda x: 'Hola ' + x)\n",
        "\n",
        "rdd_hola.collect()"
      ],
      "metadata": {
        "id": "X9Fks7zqeq5g",
        "outputId": "fe2c6cb8-6969-40f2-bfce-b1f9beab1116",
        "colab": {
          "base_uri": "https://localhost:8080/"
        }
      },
      "execution_count": 13,
      "outputs": [
        {
          "output_type": "execute_result",
          "data": {
            "text/plain": [
              "['Hola José', 'Hola Juan', 'Hola Lucía']"
            ]
          },
          "metadata": {},
          "execution_count": 13
        }
      ]
    }
  ]
}