{
  "nbformat": 4,
  "nbformat_minor": 0,
  "metadata": {
    "colab": {
      "provenance": [],
      "authorship_tag": "ABX9TyOTNGZYDLjLdyT09xtgP5aV",
      "include_colab_link": true
    },
    "kernelspec": {
      "name": "python3",
      "display_name": "Python 3"
    },
    "language_info": {
      "name": "python"
    }
  },
  "cells": [
    {
      "cell_type": "markdown",
      "metadata": {
        "id": "view-in-github",
        "colab_type": "text"
      },
      "source": [
        "<a href=\"https://colab.research.google.com/github/Ramenor/pyspark_project/blob/main/3_Creating_an_RDD_exercises.ipynb\" target=\"_parent\"><img src=\"https://colab.research.google.com/assets/colab-badge.svg\" alt=\"Open In Colab\"/></a>"
      ]
    },
    {
      "cell_type": "markdown",
      "source": [
        "Cree una sesión de Spark con nombre Cap2 y asegúrese de que emplea todos los\n",
        "cores disponibles para ejecutar en su ambiente de trabajo."
      ],
      "metadata": {
        "id": "3ale5xYugnm0"
      }
    },
    {
      "cell_type": "code",
      "source": [
        "import findspark\n",
        "\n",
        "findspark.init()\n",
        "\n",
        "from pyspark.sql import SparkSession\n",
        "\n",
        "spark = SparkSession.builder.appName('Cap2').master('local[*]').getOrCreate()\n",
        "\n",
        "spark"
      ],
      "metadata": {
        "id": "kD1PihpQgrHP",
        "outputId": "3b1978c1-98c8-4e28-f555-00182244005c",
        "colab": {
          "base_uri": "https://localhost:8080/",
          "height": 219
        }
      },
      "execution_count": 86,
      "outputs": [
        {
          "output_type": "execute_result",
          "data": {
            "text/plain": [
              "<pyspark.sql.session.SparkSession at 0x79a5f8200220>"
            ],
            "text/html": [
              "\n",
              "            <div>\n",
              "                <p><b>SparkSession - in-memory</b></p>\n",
              "                \n",
              "        <div>\n",
              "            <p><b>SparkContext</b></p>\n",
              "\n",
              "            <p><a href=\"http://502ba4fd81ee:4040\">Spark UI</a></p>\n",
              "\n",
              "            <dl>\n",
              "              <dt>Version</dt>\n",
              "                <dd><code>v3.3.3</code></dd>\n",
              "              <dt>Master</dt>\n",
              "                <dd><code>local[*]</code></dd>\n",
              "              <dt>AppName</dt>\n",
              "                <dd><code>pyspark-shell</code></dd>\n",
              "            </dl>\n",
              "        </div>\n",
              "        \n",
              "            </div>\n",
              "        "
            ]
          },
          "metadata": {},
          "execution_count": 86
        }
      ]
    },
    {
      "cell_type": "code",
      "source": [
        "Cap2 = spark.sparkContext"
      ],
      "metadata": {
        "id": "g8Ask_YdunrH"
      },
      "execution_count": null,
      "outputs": []
    },
    {
      "cell_type": "markdown",
      "source": [
        "Cree dos RDD vacíos, uno de ellos no debe contener particiones y el otro debe tener 5 particiones. Utilice vías diferentes para crear cada RDD."
      ],
      "metadata": {
        "id": "RZvmVZwyhAdv"
      }
    },
    {
      "cell_type": "code",
      "source": [
        "rdd_vacio1 = Cap2.emptyRDD()\n",
        "\n",
        "rdd_vacio1.collect()"
      ],
      "metadata": {
        "id": "8v7-TIFchFhQ",
        "outputId": "56e7e463-e41d-4168-c316-4404bfc27462",
        "colab": {
          "base_uri": "https://localhost:8080/"
        }
      },
      "execution_count": 31,
      "outputs": [
        {
          "output_type": "execute_result",
          "data": {
            "text/plain": [
              "[]"
            ]
          },
          "metadata": {},
          "execution_count": 31
        }
      ]
    },
    {
      "cell_type": "code",
      "source": [
        "rdd_vacio1.getNumPartitions()"
      ],
      "metadata": {
        "id": "tfDAN3JShw_H",
        "outputId": "ecceba58-2224-4437-9779-258f17b937ac",
        "colab": {
          "base_uri": "https://localhost:8080/"
        }
      },
      "execution_count": 32,
      "outputs": [
        {
          "output_type": "execute_result",
          "data": {
            "text/plain": [
              "0"
            ]
          },
          "metadata": {},
          "execution_count": 32
        }
      ]
    },
    {
      "cell_type": "code",
      "source": [
        "rdd_vacio2 = Cap2.parallelize([],5)\n",
        "\n",
        "rdd_vacio2.collect()"
      ],
      "metadata": {
        "id": "uBR83fY8iCGi",
        "outputId": "0b5c4147-0524-439e-ea27-9ddb785b23aa",
        "colab": {
          "base_uri": "https://localhost:8080/"
        }
      },
      "execution_count": 33,
      "outputs": [
        {
          "output_type": "execute_result",
          "data": {
            "text/plain": [
              "[]"
            ]
          },
          "metadata": {},
          "execution_count": 33
        }
      ]
    },
    {
      "cell_type": "code",
      "source": [
        "rdd_vacio2.getNumPartitions()"
      ],
      "metadata": {
        "id": "j-jjCpjmiVHl",
        "outputId": "f681c704-20e2-46fc-cf2d-04e1976281aa",
        "colab": {
          "base_uri": "https://localhost:8080/"
        }
      },
      "execution_count": 35,
      "outputs": [
        {
          "output_type": "execute_result",
          "data": {
            "text/plain": [
              "5"
            ]
          },
          "metadata": {},
          "execution_count": 35
        }
      ]
    },
    {
      "cell_type": "markdown",
      "source": [
        "Cree un RDD que contenga los números primos que hay entre 1 y 20.\\"
      ],
      "metadata": {
        "id": "_xfactWQid9E"
      }
    },
    {
      "cell_type": "code",
      "source": [
        "rdd_rango_20 = Cap2.parallelize(range(1,21),3)\n",
        "\n",
        "rdd_rango_20.collect()"
      ],
      "metadata": {
        "id": "UcfibeKwii-C",
        "outputId": "74bce8b1-0106-4bcb-9d46-4f0854d3674d",
        "colab": {
          "base_uri": "https://localhost:8080/"
        }
      },
      "execution_count": 40,
      "outputs": [
        {
          "output_type": "execute_result",
          "data": {
            "text/plain": [
              "[1, 2, 3, 4, 5, 6, 7, 8, 9, 10, 11, 12, 13, 14, 15, 16, 17, 18, 19, 20]"
            ]
          },
          "metadata": {},
          "execution_count": 40
        }
      ]
    },
    {
      "cell_type": "code",
      "source": [
        "rdd_rango_20.getNumPartitions()"
      ],
      "metadata": {
        "id": "FDCis9vukVfr",
        "outputId": "7cc3cfe2-a331-433b-aded-f20acbde0500",
        "colab": {
          "base_uri": "https://localhost:8080/"
        }
      },
      "execution_count": 41,
      "outputs": [
        {
          "output_type": "execute_result",
          "data": {
            "text/plain": [
              "3"
            ]
          },
          "metadata": {},
          "execution_count": 41
        }
      ]
    },
    {
      "cell_type": "code",
      "source": [
        "def es_primo(numero):\n",
        "    if numero < 2:\n",
        "        return\n",
        "    for i in range(2, int(numero**0.5) + 1):\n",
        "        if numero % i == 0:\n",
        "            return\n",
        "    return numero\n",
        "\n",
        "es_primo(4)"
      ],
      "metadata": {
        "id": "IAGSD-hikntU"
      },
      "execution_count": 55,
      "outputs": []
    },
    {
      "cell_type": "code",
      "source": [
        "es_primo(7)"
      ],
      "metadata": {
        "id": "NWEbJZU-mVuU",
        "outputId": "d05d29db-eb11-42e0-cf83-2861d9664e66",
        "colab": {
          "base_uri": "https://localhost:8080/"
        }
      },
      "execution_count": 57,
      "outputs": [
        {
          "output_type": "execute_result",
          "data": {
            "text/plain": [
              "7"
            ]
          },
          "metadata": {},
          "execution_count": 57
        }
      ]
    },
    {
      "cell_type": "code",
      "source": [
        "rdd_num_primos = rdd_rango_20.filter(lambda x: es_primo(x))\n",
        "\n",
        "rdd_num_primos.collect()"
      ],
      "metadata": {
        "id": "q4XZr13kmZIg",
        "outputId": "c027c64c-1040-4f74-d70b-14aed5646aa8",
        "colab": {
          "base_uri": "https://localhost:8080/"
        }
      },
      "execution_count": 59,
      "outputs": [
        {
          "output_type": "execute_result",
          "data": {
            "text/plain": [
              "[2, 3, 5, 7, 11, 13, 17, 19]"
            ]
          },
          "metadata": {},
          "execution_count": 59
        }
      ]
    },
    {
      "cell_type": "markdown",
      "source": [
        "Cree un nuevo RDD a partir del RDD creado en el ejercicio anterior el cuál solo contenga los números primos mayores a 10.\n",
        "\n"
      ],
      "metadata": {
        "id": "f6yqyyJ5m6YE"
      }
    },
    {
      "cell_type": "code",
      "source": [
        "rdd_primos_mayor_10 = rdd_num_primos.filter(lambda x: x>10)\n",
        "\n",
        "rdd_primos_mayor_10.collect()"
      ],
      "metadata": {
        "id": "fmOPFDqSm7DX",
        "outputId": "30af2567-2260-43ec-e2b5-8d31b5ae0e5f",
        "colab": {
          "base_uri": "https://localhost:8080/"
        }
      },
      "execution_count": 62,
      "outputs": [
        {
          "output_type": "execute_result",
          "data": {
            "text/plain": [
              "[11, 13, 17, 19]"
            ]
          },
          "metadata": {},
          "execution_count": 62
        }
      ]
    },
    {
      "cell_type": "markdown",
      "source": [
        "Descargue el archivo de texto adjunto a esta lección como recurso y guárdelo en una carpeta llamada data en el ambiente de trabajo de Colab."
      ],
      "metadata": {
        "id": "IlBWfS7Ondnf"
      }
    },
    {
      "cell_type": "code",
      "source": [
        "import zipfile\n",
        "\n",
        "archivo_zip = \"./data.zip\"\n",
        "\n",
        "directorio_destino = \"./\"\n",
        "\n",
        "with zipfile.ZipFile(archivo_zip, 'r') as zip_ref:\n",
        "    # Extraer todos los archivos en el directorio de destino\n",
        "    zip_ref.extractall(directorio_destino)\n",
        "\n",
        "print(\"Descompresión completada.\")"
      ],
      "metadata": {
        "id": "2WTI20NYowTC",
        "outputId": "5d55c282-b3ee-498f-9cb0-2af1cd62da50",
        "colab": {
          "base_uri": "https://localhost:8080/"
        }
      },
      "execution_count": 67,
      "outputs": [
        {
          "output_type": "stream",
          "name": "stdout",
          "text": [
            "Descompresión completada.\n"
          ]
        }
      ]
    },
    {
      "cell_type": "markdown",
      "source": [
        "Cree un RDD a partir de este archivo de texto en donde todo el documento esté contenido en un solo registro.\n"
      ],
      "metadata": {
        "id": "Z2bSoJCGqfTF"
      }
    },
    {
      "cell_type": "code",
      "source": [
        "rdd_big_data = Cap2.wholeTextFiles('./data/el_valor_del_big_data.txt',5)\n",
        "\n",
        "rdd_big_data.collect()"
      ],
      "metadata": {
        "id": "p_ATpxdxqjuK",
        "outputId": "f3dfe9f9-bddc-49d4-927f-089477a54563",
        "colab": {
          "base_uri": "https://localhost:8080/"
        }
      },
      "execution_count": 93,
      "outputs": [
        {
          "output_type": "execute_result",
          "data": {
            "text/plain": [
              "[('file:/content/data/el_valor_del_big_data.txt',\n",
              "  'El valor y la realidad de big data\\r\\nEn los últimos años, han surgido otras \"dos V\": valor y veracidad. Los datos poseen un valor intrínseco. Sin embargo, no tienen ninguna utilidad hasta que dicho valor se descubre. Resulta igualmente importante: ¿cuál es la veracidad de sus datos y cuánto puede confiar en ellos?\\r\\n\\r\\nHoy en día, el big data se ha convertido en un activo crucial. Piense en algunas de las mayores empresas tecnológicas del mundo. Gran parte del valor que ofrecen procede de sus datos, que analizan constantemente para generar una mayor eficiencia y desarrollar nuevos productos.\\r\\n\\r\\nAvances tecnológicos recientes han reducido exponencialmente el coste del almacenamiento y la computación de datos, haciendo que almacenar datos resulte más fácil y barato que nunca. Actualmente, con un mayor volumen de big data más barato y accesible, puede tomar decisiones empresariales más acertadas y precisas.\\r\\n\\r\\nIdentificar el valor del big data no pasa solo por analizarlo (que es ya una ventaja en sí misma). Se trata de todo un proceso de descubrimiento que requiere que los analistas, usuarios empresariales y ejecutivos se planteen las preguntas correctas, identifiquen patrones, formulen hipótesis informadas y predigan comportamientos.')]"
            ]
          },
          "metadata": {},
          "execution_count": 93
        }
      ]
    },
    {
      "cell_type": "markdown",
      "source": [
        "¿Cómo podría saber la dirección donde está guardado el archivo de texto a partir del RDD creado?"
      ],
      "metadata": {
        "id": "PLJScTOrseSD"
      }
    },
    {
      "cell_type": "code",
      "source": [
        "rdd_big_data.name()"
      ],
      "metadata": {
        "id": "J8a3NQTsry7A",
        "outputId": "db31c708-cae4-4c70-a81f-516fd64c9852",
        "colab": {
          "base_uri": "https://localhost:8080/",
          "height": 35
        }
      },
      "execution_count": 80,
      "outputs": [
        {
          "output_type": "execute_result",
          "data": {
            "text/plain": [
              "'./data/el_valor_del_big_data.txt'"
            ],
            "application/vnd.google.colaboratory.intrinsic+json": {
              "type": "string"
            }
          },
          "metadata": {},
          "execution_count": 80
        }
      ]
    },
    {
      "cell_type": "markdown",
      "source": [
        "Si necesitara crear un RDD a partir del archivo de texto cargado previamente en donde cada línea del archivo fuera un registro del RDD, ¿cómo lo haría?"
      ],
      "metadata": {
        "id": "UtK5_xirsuW7"
      }
    },
    {
      "cell_type": "code",
      "source": [
        "rdd_big_data2 = Cap2.textFile('./data/el_valor_del_big_data.txt')\n",
        "\n",
        "rdd_big_data2.collect()"
      ],
      "metadata": {
        "id": "ApPXcN5Is7y_",
        "outputId": "856a4142-0b10-4c3e-e4b4-af25d9aa3ba0",
        "colab": {
          "base_uri": "https://localhost:8080/"
        }
      },
      "execution_count": 90,
      "outputs": [
        {
          "output_type": "execute_result",
          "data": {
            "text/plain": [
              "['El valor y la realidad de big data',\n",
              " 'En los últimos años, han surgido otras \"dos V\": valor y veracidad. Los datos poseen un valor intrínseco. Sin embargo, no tienen ninguna utilidad hasta que dicho valor se descubre. Resulta igualmente importante: ¿cuál es la veracidad de sus datos y cuánto puede confiar en ellos?',\n",
              " '',\n",
              " 'Hoy en día, el big data se ha convertido en un activo crucial. Piense en algunas de las mayores empresas tecnológicas del mundo. Gran parte del valor que ofrecen procede de sus datos, que analizan constantemente para generar una mayor eficiencia y desarrollar nuevos productos.',\n",
              " '',\n",
              " 'Avances tecnológicos recientes han reducido exponencialmente el coste del almacenamiento y la computación de datos, haciendo que almacenar datos resulte más fácil y barato que nunca. Actualmente, con un mayor volumen de big data más barato y accesible, puede tomar decisiones empresariales más acertadas y precisas.',\n",
              " '',\n",
              " 'Identificar el valor del big data no pasa solo por analizarlo (que es ya una ventaja en sí misma). Se trata de todo un proceso de descubrimiento que requiere que los analistas, usuarios empresariales y ejecutivos se planteen las preguntas correctas, identifiquen patrones, formulen hipótesis informadas y predigan comportamientos.']"
            ]
          },
          "metadata": {},
          "execution_count": 90
        }
      ]
    }
  ]
}