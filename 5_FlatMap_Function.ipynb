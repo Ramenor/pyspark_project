{
  "nbformat": 4,
  "nbformat_minor": 0,
  "metadata": {
    "colab": {
      "provenance": [],
      "authorship_tag": "ABX9TyPcaNpYRAXpk0pEkrsL9Sef",
      "include_colab_link": true
    },
    "kernelspec": {
      "name": "python3",
      "display_name": "Python 3"
    },
    "language_info": {
      "name": "python"
    }
  },
  "cells": [
    {
      "cell_type": "markdown",
      "metadata": {
        "id": "view-in-github",
        "colab_type": "text"
      },
      "source": [
        "<a href=\"https://colab.research.google.com/github/Ramenor/pyspark_project/blob/main/5_FlatMap_Function.ipynb\" target=\"_parent\"><img src=\"https://colab.research.google.com/assets/colab-badge.svg\" alt=\"Open In Colab\"/></a>"
      ]
    },
    {
      "cell_type": "markdown",
      "source": [
        "Función flatMap"
      ],
      "metadata": {
        "id": "mRaQ9R3ngpax"
      }
    },
    {
      "cell_type": "code",
      "source": [
        "sc = spark.sparkContext\n",
        "\n",
        "rdd = sc.parallelize([1,2,3,4,5])\n",
        "\n",
        "rdd_cuadrado = rdd.map(lambda x: (x, x ** 2))\n",
        "\n",
        "rdd_cuadrado.collect()"
      ],
      "metadata": {
        "id": "omTVo8zogpp5",
        "outputId": "218a7956-990d-4bdd-d456-30cc74e7267f",
        "colab": {
          "base_uri": "https://localhost:8080/"
        }
      },
      "execution_count": 14,
      "outputs": [
        {
          "output_type": "execute_result",
          "data": {
            "text/plain": [
              "[(1, 1), (2, 4), (3, 9), (4, 16), (5, 25)]"
            ]
          },
          "metadata": {},
          "execution_count": 14
        }
      ]
    },
    {
      "cell_type": "code",
      "source": [
        "rdd_cuadrado_flat = rdd.flatMap(lambda x: (x, x ** 2))\n",
        "\n",
        "rdd_cuadrado_flat.collect()"
      ],
      "metadata": {
        "id": "C_8uQ8stgtXs",
        "outputId": "8f998977-2cc0-45d5-a42c-54453908a869",
        "colab": {
          "base_uri": "https://localhost:8080/"
        }
      },
      "execution_count": 15,
      "outputs": [
        {
          "output_type": "execute_result",
          "data": {
            "text/plain": [
              "[1, 1, 2, 4, 3, 9, 4, 16, 5, 25]"
            ]
          },
          "metadata": {},
          "execution_count": 15
        }
      ]
    },
    {
      "cell_type": "code",
      "source": [
        "rdd_texto = sc.parallelize(['José', 'Juan', 'Lucía'])\n",
        "\n",
        "rdd_mayuscula = rdd_texto.flatMap(lambda x: (x, x.upper()))\n",
        "\n",
        "rdd_mayuscula.collect()"
      ],
      "metadata": {
        "id": "AWJiM-a9guKZ",
        "outputId": "15c51d80-7091-4e17-9b25-fd754f27ebc5",
        "colab": {
          "base_uri": "https://localhost:8080/"
        }
      },
      "execution_count": 16,
      "outputs": [
        {
          "output_type": "execute_result",
          "data": {
            "text/plain": [
              "['José', 'JOSÉ', 'Juan', 'JUAN', 'Lucía', 'LUCÍA']"
            ]
          },
          "metadata": {},
          "execution_count": 16
        }
      ]
    }
  ]
}