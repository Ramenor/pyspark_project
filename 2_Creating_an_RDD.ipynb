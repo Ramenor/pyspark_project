{
  "nbformat": 4,
  "nbformat_minor": 0,
  "metadata": {
    "colab": {
      "provenance": [],
      "authorship_tag": "ABX9TyOaThjHS5ZcGDHB07+L7d+c",
      "include_colab_link": true
    },
    "kernelspec": {
      "name": "python3",
      "display_name": "Python 3"
    },
    "language_info": {
      "name": "python"
    }
  },
  "cells": [
    {
      "cell_type": "markdown",
      "metadata": {
        "id": "view-in-github",
        "colab_type": "text"
      },
      "source": [
        "<a href=\"https://colab.research.google.com/github/Ramenor/pyspark_project/blob/main/2_Creating_an_RDD.ipynb\" target=\"_parent\"><img src=\"https://colab.research.google.com/assets/colab-badge.svg\" alt=\"Open In Colab\"/></a>"
      ]
    },
    {
      "cell_type": "code",
      "source": [
        "# Diferentes formas de crear un RDD\n",
        "\n",
        "import findspark\n",
        "\n",
        "findspark.init()\n",
        "\n",
        "from pyspark.sql import SparkSession\n",
        "\n",
        "spark = SparkSession.builder.getOrCreate()\n",
        "\n",
        "sc = spark.sparkContext"
      ],
      "metadata": {
        "id": "GELQYPkddimN"
      },
      "execution_count": 12,
      "outputs": []
    },
    {
      "cell_type": "code",
      "source": [
        "# Crear un RDD vacío\n",
        "\n",
        "rdd_vacio = sc.emptyRDD"
      ],
      "metadata": {
        "id": "QXz9bG7bdppG"
      },
      "execution_count": 17,
      "outputs": []
    },
    {
      "cell_type": "code",
      "source": [
        "# Crear un RDD con parallelize\n",
        "\n",
        "rdd_vacio3 = sc.parallelize([], 3)\n",
        "\n",
        "rdd_vacio3.getNumPartitions()"
      ],
      "metadata": {
        "id": "k0UENmDZd4Ih",
        "outputId": "02603949-f7a3-412d-ecbb-de6b78484031",
        "colab": {
          "base_uri": "https://localhost:8080/"
        }
      },
      "execution_count": 22,
      "outputs": [
        {
          "output_type": "execute_result",
          "data": {
            "text/plain": [
              "3"
            ]
          },
          "metadata": {},
          "execution_count": 22
        }
      ]
    },
    {
      "cell_type": "code",
      "source": [
        "rdd = sc.parallelize([1,2,3,4,5])\n",
        "\n",
        "rdd.collect()"
      ],
      "metadata": {
        "id": "uphe4vB5ePtx",
        "outputId": "bf3421c6-3e48-4030-c3aa-d26774011a5b",
        "colab": {
          "base_uri": "https://localhost:8080/"
        }
      },
      "execution_count": 23,
      "outputs": [
        {
          "output_type": "execute_result",
          "data": {
            "text/plain": [
              "[1, 2, 3, 4, 5]"
            ]
          },
          "metadata": {},
          "execution_count": 23
        }
      ]
    },
    {
      "cell_type": "code",
      "source": [
        "# Crear un RDD desde un archivo de texto\n",
        "\n",
        "rdd_texto = sc.textFile('./rdd_source.txt')\n",
        "\n",
        "rdd_texto.collect()"
      ],
      "metadata": {
        "id": "NwLTeqF3eVIY",
        "outputId": "c3088b28-11dd-4599-9dca-8c4586150f14",
        "colab": {
          "base_uri": "https://localhost:8080/"
        }
      },
      "execution_count": 24,
      "outputs": [
        {
          "output_type": "execute_result",
          "data": {
            "text/plain": [
              "['Así podemos crear', 'un RDD desde un', 'archivo de texto!!!']"
            ]
          },
          "metadata": {},
          "execution_count": 24
        }
      ]
    },
    {
      "cell_type": "code",
      "source": [
        "rdd_texto_completo = sc.wholeTextFiles('./rdd_source.txt')\n",
        "\n",
        "rdd_texto_completo.collect()"
      ],
      "metadata": {
        "id": "dyEME409eZe8",
        "outputId": "4ecabced-f645-481c-e664-3224a8d87de2",
        "colab": {
          "base_uri": "https://localhost:8080/"
        }
      },
      "execution_count": 25,
      "outputs": [
        {
          "output_type": "execute_result",
          "data": {
            "text/plain": [
              "[('file:/content/rdd_source.txt',\n",
              "  'Así podemos crear\\nun RDD desde un\\narchivo de texto!!!')]"
            ]
          },
          "metadata": {},
          "execution_count": 25
        }
      ]
    },
    {
      "cell_type": "code",
      "source": [
        "rdd_suma = rdd.map(lambda x: x +1)\n",
        "\n",
        "rdd_suma.collect()"
      ],
      "metadata": {
        "id": "yP_8AR5qefNC",
        "outputId": "bc70af3a-831f-42c6-b321-3d265e1a1bd4",
        "colab": {
          "base_uri": "https://localhost:8080/"
        }
      },
      "execution_count": 26,
      "outputs": [
        {
          "output_type": "execute_result",
          "data": {
            "text/plain": [
              "[2, 3, 4, 5, 6]"
            ]
          },
          "metadata": {},
          "execution_count": 26
        }
      ]
    },
    {
      "cell_type": "code",
      "source": [
        "df = spark.createDataFrame([(1, 'jose'), (2, 'juan')], ['id', 'nombre'])\n",
        "\n",
        "df.show()"
      ],
      "metadata": {
        "id": "Fkc91bVuek8w",
        "outputId": "d6255d26-6877-42a2-e226-fa468fafebe6",
        "colab": {
          "base_uri": "https://localhost:8080/"
        }
      },
      "execution_count": 27,
      "outputs": [
        {
          "output_type": "stream",
          "name": "stdout",
          "text": [
            "+---+------+\n",
            "| id|nombre|\n",
            "+---+------+\n",
            "|  1|  jose|\n",
            "|  2|  juan|\n",
            "+---+------+\n",
            "\n"
          ]
        }
      ]
    },
    {
      "cell_type": "code",
      "source": [
        "rdd_df = df.rdd\n",
        "\n",
        "rdd_df.collect()"
      ],
      "metadata": {
        "id": "chUKl5Smen3e",
        "outputId": "a89981a6-2ed5-49dd-d1c9-f09712f60cf3",
        "colab": {
          "base_uri": "https://localhost:8080/"
        }
      },
      "execution_count": 28,
      "outputs": [
        {
          "output_type": "execute_result",
          "data": {
            "text/plain": [
              "[Row(id=1, nombre='jose'), Row(id=2, nombre='juan')]"
            ]
          },
          "metadata": {},
          "execution_count": 28
        }
      ]
    }
  ]
}