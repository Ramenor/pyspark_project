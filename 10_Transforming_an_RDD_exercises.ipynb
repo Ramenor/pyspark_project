{
  "nbformat": 4,
  "nbformat_minor": 0,
  "metadata": {
    "colab": {
      "provenance": [],
      "authorship_tag": "ABX9TyP5e8C8v3jDgcBEHkAB5T3+",
      "include_colab_link": true
    },
    "kernelspec": {
      "name": "python3",
      "display_name": "Python 3"
    },
    "language_info": {
      "name": "python"
    }
  },
  "cells": [
    {
      "cell_type": "markdown",
      "metadata": {
        "id": "view-in-github",
        "colab_type": "text"
      },
      "source": [
        "<a href=\"https://colab.research.google.com/github/Ramenor/pyspark_project/blob/main/10_Transforming_an_RDD_exercises.ipynb\" target=\"_parent\"><img src=\"https://colab.research.google.com/assets/colab-badge.svg\" alt=\"Open In Colab\"/></a>"
      ]
    },
    {
      "cell_type": "markdown",
      "source": [
        "Ejercicios Transformaciones en un RDD"
      ],
      "metadata": {
        "id": "RyxNKXNxoQN9"
      }
    },
    {
      "cell_type": "markdown",
      "source": [
        "Cree un RDD llamado lenguajes que contenga los siguientes lenguajes de programación: Python, R, C, Scala, Ruby y SQL."
      ],
      "metadata": {
        "id": "5sScbX3yoaIk"
      }
    },
    {
      "cell_type": "code",
      "source": [
        "sc = spark.sparkContext\n",
        "\n",
        "rdd_lenguajes = sc.parallelize(['Python', 'R', 'C', 'Scala', 'Ruby', 'SQL'])\n",
        "\n",
        "rdd_lenguajes.collect()"
      ],
      "metadata": {
        "id": "E_RxHn_tocHg",
        "outputId": "03d44380-f220-487a-c887-85ce28ddb329",
        "colab": {
          "base_uri": "https://localhost:8080/"
        }
      },
      "execution_count": 41,
      "outputs": [
        {
          "output_type": "execute_result",
          "data": {
            "text/plain": [
              "['Python', 'R', 'C', 'Scala', 'Ruby', 'SQL']"
            ]
          },
          "metadata": {},
          "execution_count": 41
        }
      ]
    },
    {
      "cell_type": "markdown",
      "source": [
        "Obtenga un nuevo RDD a partir del RDD lenguajes donde todos los lenguajes de programación estén en mayúsculas."
      ],
      "metadata": {
        "id": "dDuDONOsprVe"
      }
    },
    {
      "cell_type": "code",
      "source": [
        "rdd_LENGUAJES = rdd_lenguajes.map(lambda x: x.upper())\n",
        "\n",
        "rdd_LENGUAJES.collect()"
      ],
      "metadata": {
        "id": "RW9GfTGUpsIH",
        "outputId": "d2e851f7-43e0-4d87-f9c1-cd73fc000e0e",
        "colab": {
          "base_uri": "https://localhost:8080/"
        }
      },
      "execution_count": 49,
      "outputs": [
        {
          "output_type": "execute_result",
          "data": {
            "text/plain": [
              "['PYTHON', 'R', 'C', 'SCALA', 'RUBY', 'SQL']"
            ]
          },
          "metadata": {},
          "execution_count": 49
        }
      ]
    },
    {
      "cell_type": "markdown",
      "source": [
        "Obtenga un nuevo RDD a partir del RDD lenguajes donde todos los lenguajes de programación estén en minúsculas."
      ],
      "metadata": {
        "id": "YOTXvffkqXlY"
      }
    },
    {
      "cell_type": "code",
      "source": [
        "rdd_minusculas = rdd_lenguajes.map(lambda x: x.lower())\n",
        "\n",
        "rdd_minusculas.collect()"
      ],
      "metadata": {
        "id": "-CRA3m7pqYeH",
        "outputId": "22bd5cfc-ccd1-4998-f00e-42c8f6b6290e",
        "colab": {
          "base_uri": "https://localhost:8080/"
        }
      },
      "execution_count": 52,
      "outputs": [
        {
          "output_type": "execute_result",
          "data": {
            "text/plain": [
              "['python', 'r', 'c', 'scala', 'ruby', 'sql']"
            ]
          },
          "metadata": {},
          "execution_count": 52
        }
      ]
    },
    {
      "cell_type": "markdown",
      "source": [
        "Cree un nuevo RDD que solo contenga aquellos lenguajes de programación que comiencen con la letra R."
      ],
      "metadata": {
        "id": "t0CL2qXAqyXo"
      }
    },
    {
      "cell_type": "code",
      "source": [
        "rdd_r = rdd_lenguajes.filter(lambda x: x.startswith('R'))\n",
        "\n",
        "rdd_r.collect()"
      ],
      "metadata": {
        "id": "lgW-xcKhqywW",
        "outputId": "63c01f2e-a05f-46e7-a6d3-b48a29a36683",
        "colab": {
          "base_uri": "https://localhost:8080/"
        }
      },
      "execution_count": 57,
      "outputs": [
        {
          "output_type": "execute_result",
          "data": {
            "text/plain": [
              "['R', 'Ruby']"
            ]
          },
          "metadata": {},
          "execution_count": 57
        }
      ]
    },
    {
      "cell_type": "markdown",
      "source": [
        "Cree un RDD llamado pares que contenga los números pares existentes en el intervalo [20;30]."
      ],
      "metadata": {
        "id": "wXZz-C03roUq"
      }
    },
    {
      "cell_type": "code",
      "source": [
        "numeros_pares = [num for num in range(20, 31) if num % 2 == 0]\n",
        "\n",
        "rdd_pares = sc.parallelize(numeros_pares)\n",
        "\n",
        "rdd_pares.collect()"
      ],
      "metadata": {
        "id": "giRCvgTDro5v",
        "outputId": "1d00be2c-7896-43f6-b611-6cec0981fd42",
        "colab": {
          "base_uri": "https://localhost:8080/"
        }
      },
      "execution_count": 60,
      "outputs": [
        {
          "output_type": "execute_result",
          "data": {
            "text/plain": [
              "[20, 22, 24, 26, 28, 30]"
            ]
          },
          "metadata": {},
          "execution_count": 60
        }
      ]
    },
    {
      "cell_type": "markdown",
      "source": [
        "Cree el RDD llamado sqrt, este debe contener la raíz cuadrada de los elementos que componen el RDD pares."
      ],
      "metadata": {
        "id": "2CavhjSCsKl-"
      }
    },
    {
      "cell_type": "code",
      "source": [
        "rdd_sqrt = rdd_pares.map(lambda x: x**0.5)\n",
        "\n",
        "rdd_sqrt.collect()"
      ],
      "metadata": {
        "id": "Q5SxYKzKsNBO",
        "outputId": "fb4051d9-7547-4176-a329-d2674162e322",
        "colab": {
          "base_uri": "https://localhost:8080/"
        }
      },
      "execution_count": 63,
      "outputs": [
        {
          "output_type": "execute_result",
          "data": {
            "text/plain": [
              "[4.47213595499958,\n",
              " 4.69041575982343,\n",
              " 4.898979485566356,\n",
              " 5.0990195135927845,\n",
              " 5.291502622129181,\n",
              " 5.477225575051661]"
            ]
          },
          "metadata": {},
          "execution_count": 63
        }
      ]
    },
    {
      "cell_type": "markdown",
      "source": [
        "Obtenga una lista compuesta por los números pares en el intervalo [20;30] y sus respectivas raíces cuadradas. Un ejemplo del resultado deseado para el intervalo [50;60] sería la lista [50, 7.0710678118654755, 52, 7.211102550927978, 54, 7.3484692283495345, 56, 7.483314773547883, 58, 7.615773105863909, 60, 7.745966692414834]."
      ],
      "metadata": {
        "id": "5VhaCSn5tImu"
      }
    },
    {
      "cell_type": "code",
      "source": [
        "rdd_lista_compuesta = rdd_pares.flatMap(lambda x: (x, x**0.5)).collect()\n",
        "\n",
        "print(rdd_lista_compuesta)"
      ],
      "metadata": {
        "id": "B4CW0zmgtRXN",
        "outputId": "68e98ee6-72f3-4e5b-b47a-95bae94da4c1",
        "colab": {
          "base_uri": "https://localhost:8080/"
        }
      },
      "execution_count": 95,
      "outputs": [
        {
          "output_type": "stream",
          "name": "stdout",
          "text": [
            "[20, 4.47213595499958, 22, 4.69041575982343, 24, 4.898979485566356, 26, 5.0990195135927845, 28, 5.291502622129181, 30, 5.477225575051661]\n"
          ]
        }
      ]
    },
    {
      "cell_type": "code",
      "source": [],
      "metadata": {
        "id": "RDuaQqZY0foL"
      },
      "execution_count": null,
      "outputs": []
    },
    {
      "cell_type": "markdown",
      "source": [
        "Eleve el número de particiones del RDD sqrt a 20."
      ],
      "metadata": {
        "id": "AYj2UYddusw2"
      }
    },
    {
      "cell_type": "code",
      "source": [
        "rdd_sqrt_20 = rdd_sqrt.repartition(20)\n",
        "\n",
        "rdd_sqrt_20.getNumPartitions()"
      ],
      "metadata": {
        "id": "0gV0zHciuvUN",
        "outputId": "401d627d-d906-469d-9c45-bf1144f4da79",
        "colab": {
          "base_uri": "https://localhost:8080/"
        }
      },
      "execution_count": 77,
      "outputs": [
        {
          "output_type": "execute_result",
          "data": {
            "text/plain": [
              "20"
            ]
          },
          "metadata": {},
          "execution_count": 77
        }
      ]
    },
    {
      "cell_type": "markdown",
      "source": [
        "Si tuviera que disminuir el número de particiones luego de haberlo establecido en 20, ¿qué función utilizaría para hacer más eficiente su código?"
      ],
      "metadata": {
        "id": "KgecP8a2vWX-"
      }
    },
    {
      "cell_type": "code",
      "source": [
        "rdd_sqrt_5 = rdd_sqrt_20.coalesce(5)\n",
        "\n",
        "rdd_sqrt_5.getNumPartitions()"
      ],
      "metadata": {
        "id": "rLM6Z-Q_ve6t",
        "outputId": "27b7e645-4fdc-4bdb-a349-d91586229791",
        "colab": {
          "base_uri": "https://localhost:8080/"
        }
      },
      "execution_count": 80,
      "outputs": [
        {
          "output_type": "execute_result",
          "data": {
            "text/plain": [
              "5"
            ]
          },
          "metadata": {},
          "execution_count": 80
        }
      ]
    },
    {
      "cell_type": "markdown",
      "source": [
        "Cree un RDD del tipo clave valor a partir de los datos adjuntos como recurso a esta lección. Tenga en cuenta que deberá procesar el RDD leído para obtener el resultado solicitado. Supongamos que el RDD resultante de tipo clave valor refleja las transacciones realizadas por número de cuentas. Obtenga el monto total por cada cuenta."
      ],
      "metadata": {
        "id": "D7sbmPt_vvuu"
      }
    },
    {
      "cell_type": "code",
      "source": [
        "import zipfile\n",
        "\n",
        "archivo_zip = \"./data (2).zip\"\n",
        "\n",
        "directorio_destino = \"./\"\n",
        "\n",
        "with zipfile.ZipFile(archivo_zip, 'r') as zip_ref:\n",
        "    zip_ref.extractall(directorio_destino)\n",
        "\n",
        "print(\"Descompresión completada.\")"
      ],
      "metadata": {
        "id": "wonVbnGNvwH_",
        "outputId": "a6608221-3888-4e05-bb54-546f8d53282e",
        "colab": {
          "base_uri": "https://localhost:8080/"
        }
      },
      "execution_count": 81,
      "outputs": [
        {
          "output_type": "stream",
          "name": "stdout",
          "text": [
            "Descompresión completada.\n"
          ]
        }
      ]
    },
    {
      "cell_type": "code",
      "source": [
        "rdd_transacciones = sc.textFile('./data/transacciones')\n",
        "\n",
        "rdd_transacciones.collect()"
      ],
      "metadata": {
        "id": "B-sWjnoxwZoH",
        "outputId": "83447b5d-7730-4f55-a6f7-fe8f43f91889",
        "colab": {
          "base_uri": "https://localhost:8080/"
        }
      },
      "execution_count": 86,
      "outputs": [
        {
          "output_type": "execute_result",
          "data": {
            "text/plain": [
              "['(1001, 52.3)',\n",
              " '(1005, 20.8)',\n",
              " '(1001, 10.1)',\n",
              " '(1004, 52.7)',\n",
              " '(1005, 20.7)',\n",
              " '(1002, 85.3)',\n",
              " '(1004, 20.9)']"
            ]
          },
          "metadata": {},
          "execution_count": 86
        }
      ]
    },
    {
      "cell_type": "code",
      "source": [
        "def proceso(x):\n",
        "    return (x.replace('(','').replace(')','').split(', '))"
      ],
      "metadata": {
        "id": "-12x4BzFxNji"
      },
      "execution_count": 96,
      "outputs": []
    },
    {
      "cell_type": "code",
      "source": [
        "rdd_llave_valor = rdd_transacciones.map(proceso)\n",
        "\n",
        "rdd_llave_valor.collect()"
      ],
      "metadata": {
        "id": "piOfSxrJ1wMC",
        "outputId": "acb40e42-48d1-4e25-c433-4cbf5d720d93",
        "colab": {
          "base_uri": "https://localhost:8080/"
        }
      },
      "execution_count": 99,
      "outputs": [
        {
          "output_type": "execute_result",
          "data": {
            "text/plain": [
              "[['1001', '52.3'],\n",
              " ['1005', '20.8'],\n",
              " ['1001', '10.1'],\n",
              " ['1004', '52.7'],\n",
              " ['1005', '20.7'],\n",
              " ['1002', '85.3'],\n",
              " ['1004', '20.9']]"
            ]
          },
          "metadata": {},
          "execution_count": 99
        }
      ]
    },
    {
      "cell_type": "code",
      "source": [
        "rdd_llave_valor.reduceByKey(lambda x, y: float(x) + float(y)).collect()"
      ],
      "metadata": {
        "id": "mEEj1Wjd2aF8",
        "outputId": "db5b6d38-413b-4138-c07c-c65d73969a05",
        "colab": {
          "base_uri": "https://localhost:8080/"
        }
      },
      "execution_count": 101,
      "outputs": [
        {
          "output_type": "execute_result",
          "data": {
            "text/plain": [
              "[('1002', '85.3'), ('1001', 62.4), ('1005', 41.5), ('1004', 73.6)]"
            ]
          },
          "metadata": {},
          "execution_count": 101
        }
      ]
    },
    {
      "cell_type": "code",
      "source": [],
      "metadata": {
        "id": "EbskOizP2rlJ"
      },
      "execution_count": null,
      "outputs": []
    }
  ]
}